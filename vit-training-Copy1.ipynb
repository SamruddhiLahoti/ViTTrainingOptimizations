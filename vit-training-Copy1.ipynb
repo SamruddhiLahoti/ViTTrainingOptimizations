{
 "cells": [
  {
   "cell_type": "code",
   "execution_count": 1,
   "metadata": {},
   "outputs": [
    {
     "data": {
      "text/plain": [
       "<torch._C.Generator at 0x14f6c4010870>"
      ]
     },
     "execution_count": 1,
     "metadata": {},
     "output_type": "execute_result"
    }
   ],
   "source": [
    "import torch\n",
    "import torch.nn as nn\n",
    "import torch.optim as optim\n",
    "\n",
    "from tqdm import tqdm\n",
    "from time import time\n",
    "\n",
    "from vit import VisionTransformer\n",
    "from utils import save_stats\n",
    "from dataloader import *\n",
    "from decatt import DecattLoss\n",
    "\n",
    "torch.manual_seed(0)"
   ]
  },
  {
   "cell_type": "code",
   "execution_count": 2,
   "metadata": {},
   "outputs": [
    {
     "name": "stdout",
     "output_type": "stream",
     "text": [
      "cuda\n"
     ]
    }
   ],
   "source": [
    "device = torch.device(\"cuda\" if torch.cuda.is_available() else \"cpu\")\n",
    "print(device)"
   ]
  },
  {
   "cell_type": "code",
   "execution_count": 3,
   "metadata": {},
   "outputs": [],
   "source": [
    "def evaluate(model):\n",
    "    model.eval()\n",
    "    val_acc, total = 0, 0\n",
    "    with torch.no_grad():\n",
    "        for images, labels in testloader:\n",
    "\n",
    "            outputs, _ = model(images.to(device))\n",
    "            val_acc += (outputs.argmax(dim=1) == labels.to(device)).sum().item()\n",
    "            total += labels.shape[0]\n",
    "            \n",
    "    val_acc = val_acc / total\n",
    "    return val_acc\n",
    "\n",
    "\n",
    "def train_baseline(path):\n",
    "    torch.manual_seed(0)\n",
    "\n",
    "    model = VisionTransformer(\n",
    "        image_size, patch_size, in_channels, embed_dim, num_heads, mlp_dim, num_layers, num_classes, dropout\n",
    "    ).to(device)\n",
    "    \n",
    "    criterion = nn.CrossEntropyLoss()\n",
    "    optimizer = torch.optim.Adam(model.parameters(), lr=lr, weight_decay=weight_decay)\n",
    "\n",
    "    # Train the model\n",
    "    best_val_acc = 0\n",
    "    epochs_no_improve, max_patience = 0, 20\n",
    "    early_stop = False\n",
    "    step = -1\n",
    "\n",
    "    pbar = tqdm(range(num_epochs))\n",
    "    \n",
    "    start = time()\n",
    "    for epoch in pbar:\n",
    "\n",
    "        epoch_acc, epoch_loss, total = 0.0, 0.0, 0\n",
    "        model.train()\n",
    "        for inputs, labels in trainloader:\n",
    "            optimizer.zero_grad()\n",
    "            step += 1\n",
    "\n",
    "            outputs, _ = model(inputs.to(device))\n",
    "            loss = criterion(outputs, labels.to(device))\n",
    "\n",
    "            loss.backward()\n",
    "            optimizer.step()\n",
    "#             scheduler.step()\n",
    "\n",
    "            epoch_acc += (outputs.argmax(dim=1) == labels.to(device)).sum().item()\n",
    "            epoch_loss += loss.item()\n",
    "            total += labels.shape[0]\n",
    "        \n",
    "        epoch_loss = epoch_loss / len(trainloader)\n",
    "        epoch_acc = epoch_acc / total\n",
    "        val_acc = evaluate(model)\n",
    "        \n",
    "        save_stats(epoch, {\n",
    "            f\"stats/{path}_valacc.txt\": val_acc,\n",
    "            f\"stats/{path}_trainacc.txt\": epoch_acc,\n",
    "            f\"stats/{path}_trainloss.txt\": epoch_loss,\n",
    "            f\"stats/{path}_traintime.txt\": time() - start\n",
    "        })\n",
    "        \n",
    "        pbar.set_postfix({\"Epoch\": epoch+1, \"Train Accuracy\": epoch_acc*100, \"Training Loss\": epoch_loss, \"Validation Accuracy\": val_acc*100})\n",
    "\n",
    "        # Save the best model\n",
    "\n",
    "        if val_acc > best_val_acc:\n",
    "            epochs_no_improve = 0\n",
    "            best_val_acc = val_acc\n",
    "            tta = time() - start\n",
    "            \n",
    "            torch.save({\n",
    "                'epoch': epoch,\n",
    "                'model': model.state_dict(),\n",
    "                'optimizer': optimizer,\n",
    "#                 'scheduler' : scheduler,\n",
    "            },  f'saved_models/{path}.pth')\n",
    "\n",
    "        else:\n",
    "            epochs_no_improve += 1\n",
    "\n",
    "        if epoch > 100 and epochs_no_improve >= max_patience:\n",
    "            print('Early stopping!')\n",
    "            early_stop = True\n",
    "            break\n",
    "    \n",
    "    print(f\"Best Validation Accuracy: {best_val_acc:.3f}%\")\n",
    "    print(f\"Time to Max Val Accuracy: {tta / 60:.3f} mins\")"
   ]
  },
  {
   "cell_type": "code",
   "execution_count": 4,
   "metadata": {},
   "outputs": [],
   "source": [
    "def train_decatt(path):\n",
    "    torch.manual_seed(0)\n",
    "\n",
    "    model = VisionTransformer(\n",
    "        image_size, patch_size, in_channels, embed_dim, num_heads, mlp_dim, num_layers, num_classes, dropout\n",
    "    ).to(device)\n",
    "    \n",
    "    criterion = DecattLoss(num_heads)\n",
    "    optimizer1 = torch.optim.Adam(model.parameters(), lr=lr, weight_decay=weight_decay)\n",
    "    optimizer2 = torch.optim.Adam(model.transformer1.parameters(), lr=lr, weight_decay=weight_decay)\n",
    "#     scheduler = torch.optim.lr_scheduler.OneCycleLR(optimizer, max_lr=lr, steps_per_epoch=len(trainloader), epochs=num_epochs)\n",
    "\n",
    "    # Train the model\n",
    "    best_val_acc = 0\n",
    "    epochs_no_improve, max_patience = 0, 20\n",
    "    early_stop = False\n",
    "    step = -1\n",
    "\n",
    "    pbar = tqdm(range(num_epochs))\n",
    "    \n",
    "    start = time()\n",
    "    for epoch in pbar:\n",
    "\n",
    "        epoch_acc, epoch_loss, total = 0.0, 0.0, 0\n",
    "        model.train()\n",
    "        for inputs, labels in trainloader:\n",
    "            optimizer1.zero_grad()\n",
    "            optimizer2.zero_grad()\n",
    "            step += 1\n",
    "\n",
    "            outputs, attentions = model(inputs.to(device))\n",
    "            ce_loss, decatt_loss = criterion(outputs, attentions, labels.to(device))\n",
    "\n",
    "            ce_loss.backward(retain_graph=True)\n",
    "            optimizer1.step()\n",
    "            decatt_loss.backward()\n",
    "            optimizer2.step()\n",
    "#             scheduler.step()\n",
    "\n",
    "            epoch_acc += (outputs.argmax(dim=1) == labels.to(device)).sum().item()\n",
    "            epoch_loss += ce_loss.item() + decatt_loss.item()\n",
    "            total += labels.shape[0]\n",
    "        \n",
    "        epoch_loss = epoch_loss / len(trainloader)\n",
    "        epoch_acc = epoch_acc / total\n",
    "        val_acc = evaluate(model)\n",
    "        \n",
    "        save_stats(epoch, {\n",
    "            f\"stats/{path}_valacc.txt\": val_acc,\n",
    "            f\"stats/{path}_trainacc.txt\": epoch_acc,\n",
    "            f\"stats/{path}_trainloss.txt\": epoch_loss,\n",
    "            f\"stats/{path}_traintime.txt\": time() - start\n",
    "        })\n",
    "        \n",
    "        pbar.set_postfix({\"Epoch\": epoch+1, \"Train Accuracy\": epoch_acc*100, \"Training Loss\": epoch_loss, \"Validation Accuracy\": val_acc*100})\n",
    "\n",
    "        # Save the best model\n",
    "\n",
    "        if val_acc > best_val_acc:\n",
    "            epochs_no_improve = 0\n",
    "            best_val_acc = val_acc\n",
    "            tta = time() - start\n",
    "            \n",
    "            torch.save({\n",
    "                'epoch': epoch,\n",
    "                'model': model.state_dict(),\n",
    "                'optimizer1': optimizer1,\n",
    "                'optimizer2': optimizer2,\n",
    "#                 'scheduler' : scheduler,\n",
    "            },  f'saved_models/{path}.pth')\n",
    "\n",
    "        else:\n",
    "            epochs_no_improve += 1\n",
    "\n",
    "        if epoch > 100 and epochs_no_improve >= max_patience:\n",
    "            print('Early stopping!')\n",
    "            early_stop = True\n",
    "            break\n",
    "    \n",
    "    print(f\"Best Validation Accuracy: {best_val_acc:.3f}%\")\n",
    "    print(f\"Time to Max Val Accuracy: {tta / 60:.3f} mins\")"
   ]
  },
  {
   "cell_type": "markdown",
   "metadata": {},
   "source": [
    "# CIFAR10"
   ]
  },
  {
   "cell_type": "code",
   "execution_count": 5,
   "metadata": {},
   "outputs": [],
   "source": [
    "image_size = 32\n",
    "patch_size = 4\n",
    "in_channels = 3\n",
    "num_heads = 3\n",
    "embed_dim = 64 * num_heads\n",
    "mlp_dim = 512\n",
    "num_classes = 10\n",
    "num_layers = 12\n",
    "dropout = 0.1\n",
    "batch_size = 256\n",
    "\n",
    "lr = 1e-3\n",
    "weight_decay = 0.0001\n",
    "num_epochs = 30\n",
    "\n",
    "# image_size = 32\n",
    "# patch_size = 4\n",
    "# in_channels = 8\n",
    "# num_heads = 3\n",
    "# embed_dim = 512\n",
    "# mlp_dim = 1024\n",
    "# num_classes = 10\n",
    "# num_layers = 4\n",
    "# dropout = 0.1\n",
    "# batch_size = 256\n",
    "\n",
    "# lr = 3e-3\n",
    "# weight_decay = 0.0001\n",
    "# num_epochs = 30"
   ]
  },
  {
   "cell_type": "code",
   "execution_count": 6,
   "metadata": {},
   "outputs": [
    {
     "name": "stdout",
     "output_type": "stream",
     "text": [
      "Files already downloaded and verified\n",
      "Files already downloaded and verified\n"
     ]
    }
   ],
   "source": [
    "trainloader, testloader = cifar10_loaders(image_size, batch_size)"
   ]
  },
  {
   "cell_type": "markdown",
   "metadata": {},
   "source": [
    "### ViT Baseline"
   ]
  },
  {
   "cell_type": "code",
   "execution_count": null,
   "metadata": {},
   "outputs": [
    {
     "name": "stderr",
     "output_type": "stream",
     "text": [
      "  0%|          | 0/30 [00:00<?, ?it/s]"
     ]
    }
   ],
   "source": [
    "train_baseline(\"vit_baseline_cifar10\")"
   ]
  },
  {
   "cell_type": "markdown",
   "metadata": {},
   "source": [
    "### DeCatt Loss"
   ]
  },
  {
   "cell_type": "code",
   "execution_count": null,
   "metadata": {},
   "outputs": [
    {
     "name": "stderr",
     "output_type": "stream",
     "text": [
      " 30%|███       | 9/30 [06:11<14:08, 40.38s/it, Epoch=9, Train Accuracy=57.6, Training Loss=51, Validation Accuracy=61.4]  "
     ]
    }
   ],
   "source": [
    "train_decatt(\"vit_decatt_cifar10\")"
   ]
  },
  {
   "cell_type": "code",
   "execution_count": null,
   "metadata": {},
   "outputs": [],
   "source": []
  }
 ],
 "metadata": {
  "kernelspec": {
   "display_name": "idls",
   "language": "python",
   "name": "idls"
  },
  "language_info": {
   "codemirror_mode": {
    "name": "ipython",
    "version": 3
   },
   "file_extension": ".py",
   "mimetype": "text/x-python",
   "name": "python",
   "nbconvert_exporter": "python",
   "pygments_lexer": "ipython3",
   "version": "3.11.4"
  }
 },
 "nbformat": 4,
 "nbformat_minor": 4
}

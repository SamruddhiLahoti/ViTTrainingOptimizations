{
 "cells": [
  {
   "cell_type": "code",
   "execution_count": 1,
   "metadata": {},
   "outputs": [
    {
     "data": {
      "text/plain": [
       "<torch._C.Generator at 0x1524325b4930>"
      ]
     },
     "execution_count": 1,
     "metadata": {},
     "output_type": "execute_result"
    }
   ],
   "source": [
    "import torch\n",
    "\n",
    "from tqdm import tqdm\n",
    "from time import time\n",
    "\n",
    "from vit import VisionTransformer\n",
    "from utils import *\n",
    "from dataloader import *\n",
    "from decatt import DecattLoss\n",
    "\n",
    "torch.manual_seed(0)"
   ]
  },
  {
   "cell_type": "code",
   "execution_count": 2,
   "metadata": {},
   "outputs": [
    {
     "name": "stdout",
     "output_type": "stream",
     "text": [
      "[0, 1]\n"
     ]
    }
   ],
   "source": [
    "device_ids = [i for i in range(torch.cuda.device_count())]\n",
    "print(device_ids)"
   ]
  },
  {
   "cell_type": "markdown",
   "metadata": {},
   "source": [
    "# CIFAR10"
   ]
  },
  {
   "cell_type": "code",
   "execution_count": 3,
   "metadata": {},
   "outputs": [
    {
     "name": "stdout",
     "output_type": "stream",
     "text": [
      "Files already downloaded and verified\n",
      "Files already downloaded and verified\n"
     ]
    }
   ],
   "source": [
    "image_size = 32\n",
    "patch_size = 4\n",
    "in_channels = 3\n",
    "mlp_dim = 512\n",
    "num_classes = 10\n",
    "num_layers = 12\n",
    "dropout = 0.1\n",
    "batch_size = 256\n",
    "\n",
    "lr = 1e-3\n",
    "weight_decay = 1e-3\n",
    "num_epochs = 50\n",
    "\n",
    "trainloader, testloader = cifar10_loaders(image_size, batch_size)"
   ]
  },
  {
   "cell_type": "markdown",
   "metadata": {},
   "source": [
    "### ViT Baseline"
   ]
  },
  {
   "cell_type": "code",
   "execution_count": null,
   "metadata": {},
   "outputs": [],
   "source": [
    "num_heads = 6\n",
    "embed_dim = 64 * num_heads\n",
    "\n",
    "model = VisionTransformer(\n",
    "    image_size, patch_size, in_channels, embed_dim, num_heads, mlp_dim, num_layers, num_classes, dropout\n",
    ")\n",
    "model = torch.nn.DataParallel(model.cuda(), device_ids=device_ids).cuda()\n",
    "\n",
    "criterion = torch.nn.CrossEntropyLoss()\n",
    "optimizer = torch.optim.Adam(model.parameters(), lr=lr, weight_decay=weight_decay)\n",
    "    \n",
    "train(\"vit_baseline_cifar10\", model, criterion, optimizer, num_epochs, trainloader, testloader)\n",
    "\n",
    "# Best Validation Accuracy: 69.210%\n",
    "# Time to Max Val Accuracy: 20.132"
   ]
  },
  {
   "cell_type": "code",
   "execution_count": null,
   "metadata": {},
   "outputs": [],
   "source": [
    "print(f\"Total num params: {sum(p.numel() for p in model.parameters())}\")\n",
    "# Total num params: 11965642"
   ]
  },
  {
   "cell_type": "markdown",
   "metadata": {},
   "source": [
    "### DeCAtt Loss"
   ]
  },
  {
   "cell_type": "code",
   "execution_count": 4,
   "metadata": {},
   "outputs": [
    {
     "name": "stderr",
     "output_type": "stream",
     "text": [
      "100%|██████████| 50/50 [19:01<00:00, 22.83s/it, Epoch=50, Train Accuracy=62.3, Training Loss=50.9, Validation Accuracy=64.6]"
     ]
    },
    {
     "name": "stdout",
     "output_type": "stream",
     "text": [
      "Best Validation Accuracy: 64.970%\n",
      "Time to Max Val Accuracy: 17.192 mins\n"
     ]
    },
    {
     "name": "stderr",
     "output_type": "stream",
     "text": [
      "\n"
     ]
    }
   ],
   "source": [
    "num_heads = 3\n",
    "embed_dim = 64 * num_heads\n",
    "\n",
    "model = VisionTransformer(\n",
    "    image_size, patch_size, in_channels, embed_dim, num_heads, mlp_dim, num_layers, num_classes, dropout\n",
    ")\n",
    "model = torch.nn.DataParallel(model.cuda(), device_ids=device_ids).cuda()\n",
    "\n",
    "criterion = DecattLoss(num_heads)\n",
    "optimizer1 = torch.optim.Adam(model.parameters(), lr=lr, weight_decay=weight_decay)\n",
    "optimizer2 = torch.optim.Adam(model.module.transformer1.parameters(), lr=lr, weight_decay=weight_decay)\n",
    "    \n",
    "train(\"vit_decatt_cifar10\", model, criterion, optimizer1, num_epochs, trainloader, testloader, optimizer2=optimizer2)\n",
    "\n",
    "# Best Validation Accuracy: 69.310%\n",
    "# Time to Max Val Accuracy: 17.762 mins"
   ]
  },
  {
   "cell_type": "code",
   "execution_count": 5,
   "metadata": {},
   "outputs": [
    {
     "name": "stdout",
     "output_type": "stream",
     "text": [
      "Total num params: 4197994\n"
     ]
    }
   ],
   "source": [
    "print(f\"Total num params: {sum(p.numel() for p in model.parameters())}\")\n",
    "# Total num params: 4197994"
   ]
  },
  {
   "cell_type": "markdown",
   "metadata": {},
   "source": [
    "# CIFAR100"
   ]
  },
  {
   "cell_type": "code",
   "execution_count": 3,
   "metadata": {},
   "outputs": [],
   "source": [
    "image_size = 32\n",
    "patch_size = 4\n",
    "in_channels = 3\n",
    "mlp_dim = 512\n",
    "num_classes = 100\n",
    "num_layers = 12\n",
    "dropout = 0.1\n",
    "batch_size = 256\n",
    "\n",
    "lr = 1e-3\n",
    "weight_decay = 1e-3\n",
    "num_epochs = 50\n",
    "\n",
    "trainloader, testloader = cifar100_loaders(image_size, batch_size)"
   ]
  },
  {
   "cell_type": "markdown",
   "metadata": {},
   "source": [
    "### ViT Baseline"
   ]
  },
  {
   "cell_type": "code",
   "execution_count": 5,
   "metadata": {},
   "outputs": [
    {
     "name": "stderr",
     "output_type": "stream",
     "text": [
      "100%|██████████| 50/50 [24:26<00:00, 29.34s/it, Epoch=50, Train Accuracy=39, Training Loss=2.32, Validation Accuracy=40.4]  "
     ]
    },
    {
     "name": "stdout",
     "output_type": "stream",
     "text": [
      "Best Validation Accuracy: 40.380%\n",
      "Time to Max Val Accuracy: 24.442 mins\n"
     ]
    },
    {
     "name": "stderr",
     "output_type": "stream",
     "text": [
      "\n"
     ]
    }
   ],
   "source": [
    "num_heads = 6\n",
    "embed_dim = 64 * num_heads\n",
    "\n",
    "model = VisionTransformer(\n",
    "    image_size, patch_size, in_channels, embed_dim, num_heads, mlp_dim, num_layers, num_classes, dropout\n",
    ")\n",
    "model = torch.nn.DataParallel(model.cuda(), device_ids=device_ids).cuda()\n",
    "\n",
    "criterion = torch.nn.CrossEntropyLoss()\n",
    "optimizer = torch.optim.Adam(model.parameters(), lr=lr, weight_decay=weight_decay)\n",
    "    \n",
    "train(\"vit_baseline_cifar100\", model, criterion, optimizer, num_epochs, trainloader, testloader)\n",
    "\n",
    "# Best Validation Accuracy: 40.380%\n",
    "# Time to Max Val Accuracy: 24.442 mins"
   ]
  },
  {
   "cell_type": "code",
   "execution_count": 6,
   "metadata": {},
   "outputs": [
    {
     "name": "stdout",
     "output_type": "stream",
     "text": [
      "Total num params: 11983012\n"
     ]
    }
   ],
   "source": [
    "print(f\"Total num params: {sum(p.numel() for p in model.parameters())}\")\n",
    "# Total num params: 11983012"
   ]
  },
  {
   "cell_type": "markdown",
   "metadata": {},
   "source": [
    "### DeCAtt Loss"
   ]
  },
  {
   "cell_type": "code",
   "execution_count": 4,
   "metadata": {},
   "outputs": [
    {
     "name": "stderr",
     "output_type": "stream",
     "text": [
      " 40%|████      | 20/50 [07:50<11:45, 23.53s/it, Epoch=20, Train Accuracy=27.3, Training Loss=52.7, Validation Accuracy=28.6]\n"
     ]
    },
    {
     "ename": "KeyboardInterrupt",
     "evalue": "",
     "output_type": "error",
     "traceback": [
      "\u001b[0;31m---------------------------------------------------------------------------\u001b[0m",
      "\u001b[0;31mKeyboardInterrupt\u001b[0m                         Traceback (most recent call last)",
      "Cell \u001b[0;32mIn[4], line 13\u001b[0m\n\u001b[1;32m     10\u001b[0m optimizer1 \u001b[38;5;241m=\u001b[39m torch\u001b[38;5;241m.\u001b[39moptim\u001b[38;5;241m.\u001b[39mAdam(model\u001b[38;5;241m.\u001b[39mparameters(), lr\u001b[38;5;241m=\u001b[39mlr, weight_decay\u001b[38;5;241m=\u001b[39mweight_decay)\n\u001b[1;32m     11\u001b[0m optimizer2 \u001b[38;5;241m=\u001b[39m torch\u001b[38;5;241m.\u001b[39moptim\u001b[38;5;241m.\u001b[39mAdam(model\u001b[38;5;241m.\u001b[39mmodule\u001b[38;5;241m.\u001b[39mtransformer1\u001b[38;5;241m.\u001b[39mparameters(), lr\u001b[38;5;241m=\u001b[39mlr, weight_decay\u001b[38;5;241m=\u001b[39mweight_decay)\n\u001b[0;32m---> 13\u001b[0m train(\u001b[38;5;124m\"\u001b[39m\u001b[38;5;124mvit_decatt_cifar100\u001b[39m\u001b[38;5;124m\"\u001b[39m, model, criterion, optimizer1, num_epochs, trainloader, testloader, optimizer2\u001b[38;5;241m=\u001b[39moptimizer2)\n",
      "File \u001b[0;32m/scratch/sl10152/IDLS/ViTTrainingOptimizations/utils.py:70\u001b[0m, in \u001b[0;36mtrain\u001b[0;34m(path, model, criterion, optimizer1, num_epochs, trainloader, testloader, optimizer2)\u001b[0m\n\u001b[1;32m     67\u001b[0m     decatt_loss\u001b[38;5;241m.\u001b[39mbackward()\n\u001b[1;32m     68\u001b[0m     optimizer2\u001b[38;5;241m.\u001b[39mstep()\n\u001b[0;32m---> 70\u001b[0m epoch_acc \u001b[38;5;241m+\u001b[39m\u001b[38;5;241m=\u001b[39m (outputs\u001b[38;5;241m.\u001b[39margmax(dim\u001b[38;5;241m=\u001b[39m\u001b[38;5;241m1\u001b[39m) \u001b[38;5;241m==\u001b[39m labels\u001b[38;5;241m.\u001b[39mcuda())\u001b[38;5;241m.\u001b[39msum()\u001b[38;5;241m.\u001b[39mitem()\n\u001b[1;32m     71\u001b[0m epoch_loss \u001b[38;5;241m+\u001b[39m\u001b[38;5;241m=\u001b[39m ce_loss\u001b[38;5;241m.\u001b[39mitem() \u001b[38;5;241m+\u001b[39m decatt_loss\u001b[38;5;241m.\u001b[39mitem()\n\u001b[1;32m     72\u001b[0m total \u001b[38;5;241m+\u001b[39m\u001b[38;5;241m=\u001b[39m labels\u001b[38;5;241m.\u001b[39mshape[\u001b[38;5;241m0\u001b[39m]\n",
      "\u001b[0;31mKeyboardInterrupt\u001b[0m: "
     ]
    }
   ],
   "source": [
    "num_heads = 3\n",
    "embed_dim = 64 * num_heads\n",
    "\n",
    "model = VisionTransformer(\n",
    "    image_size, patch_size, in_channels, embed_dim, num_heads, mlp_dim, num_layers, num_classes, dropout\n",
    ")\n",
    "model = torch.nn.DataParallel(model.cuda(), device_ids=device_ids).cuda()\n",
    "\n",
    "criterion = DecattLoss(num_heads)\n",
    "optimizer1 = torch.optim.Adam(model.parameters(), lr=lr, weight_decay=weight_decay)\n",
    "optimizer2 = torch.optim.Adam(model.module.transformer1.parameters(), lr=lr, weight_decay=weight_decay)\n",
    "    \n",
    "train(\"vit_decatt_cifar100\", model, criterion, optimizer1, num_epochs, trainloader, testloader, optimizer2=optimizer2)\n",
    "\n",
    "# Best Validation Accuracy: 40.590%\n",
    "# Time to Max Val Accuracy: 18.759 mins"
   ]
  },
  {
   "cell_type": "code",
   "execution_count": 5,
   "metadata": {},
   "outputs": [
    {
     "name": "stdout",
     "output_type": "stream",
     "text": [
      "Total num params: 4206724\n"
     ]
    }
   ],
   "source": [
    "print(f\"Total num params: {sum(p.numel() for p in model.parameters())}\")\n",
    "# Total num params: 4206724"
   ]
  },
  {
   "cell_type": "code",
   "execution_count": null,
   "metadata": {},
   "outputs": [],
   "source": []
  }
 ],
 "metadata": {
  "kernelspec": {
   "display_name": "idls",
   "language": "python",
   "name": "idls"
  },
  "language_info": {
   "codemirror_mode": {
    "name": "ipython",
    "version": 3
   },
   "file_extension": ".py",
   "mimetype": "text/x-python",
   "name": "python",
   "nbconvert_exporter": "python",
   "pygments_lexer": "ipython3",
   "version": "3.11.4"
  }
 },
 "nbformat": 4,
 "nbformat_minor": 4
}

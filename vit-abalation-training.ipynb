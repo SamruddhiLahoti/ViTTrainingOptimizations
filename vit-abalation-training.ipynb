{
 "cells": [
  {
   "cell_type": "code",
   "execution_count": 8,
   "metadata": {},
   "outputs": [],
   "source": [
    "# !git clone https://github.com/TomerRonen34/mixed-resolution-vit.git\n",
    "# %mv mixed-resolution-vit/* ./\n",
    "# %rm -rf mixed-resolution-vit"
   ]
  },
  {
   "cell_type": "code",
   "execution_count": 1,
   "metadata": {},
   "outputs": [
    {
     "data": {
      "text/plain": [
       "<torch._C.Generator at 0x14b7bae97e30>"
      ]
     },
     "execution_count": 1,
     "metadata": {},
     "output_type": "execute_result"
    }
   ],
   "source": [
    "import torch\n",
    "\n",
    "from tqdm import tqdm\n",
    "from time import time\n",
    "\n",
    "from vit import *\n",
    "from utils import *\n",
    "from dataloader import *\n",
    "from decatt import DecattLoss\n",
    "\n",
    "torch.manual_seed(0)"
   ]
  },
  {
   "cell_type": "code",
   "execution_count": 2,
   "metadata": {},
   "outputs": [
    {
     "name": "stdout",
     "output_type": "stream",
     "text": [
      "[0]\n"
     ]
    }
   ],
   "source": [
    "device_ids = [i for i in range(torch.cuda.device_count())]\n",
    "print(device_ids)"
   ]
  },
  {
   "cell_type": "markdown",
   "metadata": {},
   "source": [
    "# CIFAR10"
   ]
  },
  {
   "cell_type": "code",
   "execution_count": 3,
   "metadata": {},
   "outputs": [
    {
     "name": "stdout",
     "output_type": "stream",
     "text": [
      "Files already downloaded and verified\n",
      "Files already downloaded and verified\n"
     ]
    }
   ],
   "source": [
    "image_size = 256\n",
    "min_patch_size = 16\n",
    "max_patch_size = 64\n",
    "quadtree_num_patches = 64\n",
    "in_channels = 3\n",
    "mlp_dim = 512\n",
    "num_classes = 10\n",
    "num_layers = 12\n",
    "dropout = 0.1\n",
    "batch_size = 256\n",
    "\n",
    "lr = 1e-3\n",
    "weight_decay = 1e-3\n",
    "num_epochs = 30\n",
    "\n",
    "trainloader, testloader = cifar10_loaders(image_size, batch_size)"
   ]
  },
  {
   "cell_type": "markdown",
   "metadata": {},
   "source": [
    "### DeCAtt & MixedResolutionTokenizer"
   ]
  },
  {
   "cell_type": "code",
   "execution_count": null,
   "metadata": {},
   "outputs": [
    {
     "name": "stderr",
     "output_type": "stream",
     "text": [
      " 50%|█████     | 15/30 [52:52<52:46, 211.09s/it, Epoch=15, Train Accuracy=51.1, Training Loss=51.2, Validation Accuracy=52]    "
     ]
    }
   ],
   "source": [
    "num_heads = 3\n",
    "embed_dim = 64 * num_heads\n",
    "\n",
    "model = MixedResViT(image_size, min_patch_size, max_patch_size, quadtree_num_patches, in_channels, \n",
    "                    embed_dim, num_heads, mlp_dim, num_layers, num_classes, dropout)                                                                                          \n",
    "model = torch.nn.DataParallel(model.cuda(), device_ids=device_ids).cuda()\n",
    "\n",
    "criterion = DecattLoss(num_heads)\n",
    "optimizer1 = torch.optim.Adam(model.parameters(), lr=lr, weight_decay=weight_decay)\n",
    "optimizer2 = torch.optim.Adam(model.module.transformer1.parameters(), lr=lr, weight_decay=weight_decay)\n",
    "    \n",
    "train(\"vit_mrt_cifar10\", model, criterion, optimizer1, num_epochs, trainloader, testloader, optimizer2=optimizer2)"
   ]
  },
  {
   "cell_type": "code",
   "execution_count": 5,
   "metadata": {},
   "outputs": [
    {
     "name": "stdout",
     "output_type": "stream",
     "text": [
      "Total num params: 4206724\n"
     ]
    }
   ],
   "source": [
    "print(f\"Total num params: {sum(p.numel() for p in model.parameters())}\")\n",
    "# Total num params: 4206724"
   ]
  },
  {
   "cell_type": "code",
   "execution_count": null,
   "metadata": {},
   "outputs": [],
   "source": []
  }
 ],
 "metadata": {
  "kernelspec": {
   "display_name": "idls",
   "language": "python",
   "name": "idls"
  },
  "language_info": {
   "codemirror_mode": {
    "name": "ipython",
    "version": 3
   },
   "file_extension": ".py",
   "mimetype": "text/x-python",
   "name": "python",
   "nbconvert_exporter": "python",
   "pygments_lexer": "ipython3",
   "version": "3.11.4"
  }
 },
 "nbformat": 4,
 "nbformat_minor": 4
}

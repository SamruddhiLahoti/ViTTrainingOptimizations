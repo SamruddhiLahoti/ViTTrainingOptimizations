{
 "cells": [
  {
   "cell_type": "code",
   "execution_count": 1,
   "metadata": {},
   "outputs": [
    {
     "data": {
      "text/plain": [
       "<torch._C.Generator at 0x14cbaa570a90>"
      ]
     },
     "execution_count": 1,
     "metadata": {},
     "output_type": "execute_result"
    }
   ],
   "source": [
    "import torch\n",
    "\n",
    "from tqdm import tqdm\n",
    "from time import time\n",
    "\n",
    "from vit import VisionTransformer\n",
    "from utils import *\n",
    "from dataloader import *\n",
    "from decatt import DecattLoss\n",
    "\n",
    "torch.manual_seed(0)"
   ]
  },
  {
   "cell_type": "code",
   "execution_count": 2,
   "metadata": {},
   "outputs": [
    {
     "name": "stdout",
     "output_type": "stream",
     "text": [
      "[0, 1]\n"
     ]
    }
   ],
   "source": [
    "device_ids = [i for i in range(torch.cuda.device_count())]\n",
    "print(device_ids)"
   ]
  },
  {
   "cell_type": "markdown",
   "metadata": {},
   "source": [
    "# CIFAR10"
   ]
  },
  {
   "cell_type": "code",
   "execution_count": 3,
   "metadata": {},
   "outputs": [
    {
     "name": "stdout",
     "output_type": "stream",
     "text": [
      "Files already downloaded and verified\n",
      "Files already downloaded and verified\n"
     ]
    }
   ],
   "source": [
    "image_size = 32\n",
    "patch_size = 4\n",
    "in_channels = 3\n",
    "mlp_dim = 512\n",
    "num_classes = 10\n",
    "num_layers = 12\n",
    "dropout = 0.1\n",
    "batch_size = 256\n",
    "\n",
    "lr = 1e-3\n",
    "weight_decay = 1e-3\n",
    "num_epochs = 50\n",
    "\n",
    "trainloader, testloader = cifar10_loaders(image_size, batch_size)"
   ]
  },
  {
   "cell_type": "markdown",
   "metadata": {},
   "source": [
    "### ViT Baseline"
   ]
  },
  {
   "cell_type": "code",
   "execution_count": null,
   "metadata": {},
   "outputs": [],
   "source": [
    "num_heads = 6\n",
    "embed_dim = 64 * num_heads\n",
    "\n",
    "model = VisionTransformer(\n",
    "    image_size, patch_size, in_channels, embed_dim, num_heads, mlp_dim, num_layers, num_classes, dropout\n",
    ")\n",
    "model = torch.nn.DataParallel(model.cuda(), device_ids=device_ids).cuda()\n",
    "\n",
    "criterion = torch.nn.CrossEntropyLoss()\n",
    "optimizer = torch.optim.Adam(model.parameters(), lr=lr, weight_decay=weight_decay)\n",
    "    \n",
    "train(\"vit_baseline_cifar10\", model, criterion, optimizer, num_epochs, trainloader, testloader)\n",
    "\n",
    "# Best Validation Accuracy: 69.210%\n",
    "# Time to Max Val Accuracy: 20.132"
   ]
  },
  {
   "cell_type": "code",
   "execution_count": null,
   "metadata": {},
   "outputs": [],
   "source": [
    "print(f\"Total num params: {sum(p.numel() for p in model.parameters())}\")\n",
    "# Total num params: 11965642"
   ]
  },
  {
   "cell_type": "markdown",
   "metadata": {},
   "source": [
    "### DeCAtt Loss"
   ]
  },
  {
   "cell_type": "code",
   "execution_count": 4,
   "metadata": {},
   "outputs": [
    {
     "name": "stderr",
     "output_type": "stream",
     "text": [
      "100%|██████████| 50/50 [18:28<00:00, 22.18s/it, Epoch=50, Train Accuracy=67.1, Training Loss=50.7, Validation Accuracy=68.8]"
     ]
    },
    {
     "name": "stdout",
     "output_type": "stream",
     "text": [
      "Best Validation Accuracy: 69.310%\n",
      "Time to Max Val Accuracy: 17.762 mins\n"
     ]
    },
    {
     "name": "stderr",
     "output_type": "stream",
     "text": [
      "\n"
     ]
    }
   ],
   "source": [
    "num_heads = 3\n",
    "embed_dim = 64 * num_heads\n",
    "\n",
    "model = VisionTransformer(\n",
    "    image_size, patch_size, in_channels, embed_dim, num_heads, mlp_dim, num_layers, num_classes, dropout\n",
    ")\n",
    "model = torch.nn.DataParallel(model.cuda(), device_ids=device_ids).cuda()\n",
    "\n",
    "criterion = DecattLoss(num_heads)\n",
    "optimizer1 = torch.optim.Adam(model.parameters(), lr=lr, weight_decay=weight_decay)\n",
    "optimizer2 = torch.optim.Adam(model.module.transformer1.parameters(), lr=lr, weight_decay=weight_decay)\n",
    "    \n",
    "train(\"vit_decatt_cifar10\", model, criterion, optimizer1, num_epochs, trainloader, testloader, optimizer2=optimizer2)\n",
    "\n",
    "# Best Validation Accuracy: 69.310%\n",
    "# Time to Max Val Accuracy: 17.762 mins"
   ]
  },
  {
   "cell_type": "code",
   "execution_count": 5,
   "metadata": {},
   "outputs": [
    {
     "name": "stdout",
     "output_type": "stream",
     "text": [
      "Total num params: 4197994\n"
     ]
    }
   ],
   "source": [
    "print(f\"Total num params: {sum(p.numel() for p in model.parameters())}\")\n",
    "# Total num params: 4197994"
   ]
  },
  {
   "cell_type": "markdown",
   "metadata": {},
   "source": [
    "# CIFAR100"
   ]
  },
  {
   "cell_type": "code",
   "execution_count": 3,
   "metadata": {},
   "outputs": [],
   "source": [
    "image_size = 32\n",
    "patch_size = 4\n",
    "in_channels = 3\n",
    "mlp_dim = 512\n",
    "num_classes = 100\n",
    "num_layers = 12\n",
    "dropout = 0.1\n",
    "batch_size = 256\n",
    "\n",
    "lr = 1e-3\n",
    "weight_decay = 1e-3\n",
    "num_epochs = 50\n",
    "\n",
    "trainloader, testloader = cifar100_loaders(image_size, batch_size)"
   ]
  },
  {
   "cell_type": "markdown",
   "metadata": {},
   "source": [
    "### ViT Baseline"
   ]
  },
  {
   "cell_type": "code",
   "execution_count": 5,
   "metadata": {},
   "outputs": [
    {
     "name": "stderr",
     "output_type": "stream",
     "text": [
      "100%|██████████| 50/50 [24:26<00:00, 29.34s/it, Epoch=50, Train Accuracy=39, Training Loss=2.32, Validation Accuracy=40.4]  "
     ]
    },
    {
     "name": "stdout",
     "output_type": "stream",
     "text": [
      "Best Validation Accuracy: 40.380%\n",
      "Time to Max Val Accuracy: 24.442 mins\n"
     ]
    },
    {
     "name": "stderr",
     "output_type": "stream",
     "text": [
      "\n"
     ]
    }
   ],
   "source": [
    "num_heads = 6\n",
    "embed_dim = 64 * num_heads\n",
    "\n",
    "model = VisionTransformer(\n",
    "    image_size, patch_size, in_channels, embed_dim, num_heads, mlp_dim, num_layers, num_classes, dropout\n",
    ")\n",
    "model = torch.nn.DataParallel(model.cuda(), device_ids=device_ids).cuda()\n",
    "\n",
    "criterion = torch.nn.CrossEntropyLoss()\n",
    "optimizer = torch.optim.Adam(model.parameters(), lr=lr, weight_decay=weight_decay)\n",
    "    \n",
    "train(\"vit_baseline_cifar100\", model, criterion, optimizer, num_epochs, trainloader, testloader)\n",
    "\n",
    "# Best Validation Accuracy: 40.380%\n",
    "# Time to Max Val Accuracy: 24.442 mins"
   ]
  },
  {
   "cell_type": "code",
   "execution_count": 6,
   "metadata": {},
   "outputs": [
    {
     "name": "stdout",
     "output_type": "stream",
     "text": [
      "Total num params: 11983012\n"
     ]
    }
   ],
   "source": [
    "print(f\"Total num params: {sum(p.numel() for p in model.parameters())}\")\n",
    "# Total num params: 11983012"
   ]
  },
  {
   "cell_type": "markdown",
   "metadata": {},
   "source": [
    "### DeCAtt Loss"
   ]
  },
  {
   "cell_type": "code",
   "execution_count": 4,
   "metadata": {},
   "outputs": [
    {
     "name": "stderr",
     "output_type": "stream",
     "text": [
      "100%|██████████| 50/50 [19:08<00:00, 22.97s/it, Epoch=50, Train Accuracy=37.3, Training Loss=52.2, Validation Accuracy=40.2]"
     ]
    },
    {
     "name": "stdout",
     "output_type": "stream",
     "text": [
      "Best Validation Accuracy: 40.590%\n",
      "Time to Max Val Accuracy: 18.759 mins\n"
     ]
    },
    {
     "name": "stderr",
     "output_type": "stream",
     "text": [
      "\n"
     ]
    }
   ],
   "source": [
    "num_heads = 3\n",
    "embed_dim = 64 * num_heads\n",
    "\n",
    "model = VisionTransformer(\n",
    "    image_size, patch_size, in_channels, embed_dim, num_heads, mlp_dim, num_layers, num_classes, dropout\n",
    ")\n",
    "model = torch.nn.DataParallel(model.cuda(), device_ids=device_ids).cuda()\n",
    "\n",
    "criterion = DecattLoss(num_heads)\n",
    "optimizer1 = torch.optim.Adam(model.parameters(), lr=lr, weight_decay=weight_decay)\n",
    "optimizer2 = torch.optim.Adam(model.module.transformer1.parameters(), lr=lr, weight_decay=weight_decay)\n",
    "    \n",
    "train(\"vit_decatt_cifar100\", model, criterion, optimizer1, num_epochs, trainloader, testloader, optimizer2=optimizer2)\n",
    "\n",
    "# Best Validation Accuracy: 40.590%\n",
    "# Time to Max Val Accuracy: 18.759 mins"
   ]
  },
  {
   "cell_type": "code",
   "execution_count": 5,
   "metadata": {},
   "outputs": [
    {
     "name": "stdout",
     "output_type": "stream",
     "text": [
      "Total num params: 4206724\n"
     ]
    }
   ],
   "source": [
    "print(f\"Total num params: {sum(p.numel() for p in model.parameters())}\")\n",
    "# Total num params: 4206724"
   ]
  },
  {
   "cell_type": "code",
   "execution_count": null,
   "metadata": {},
   "outputs": [],
   "source": []
  }
 ],
 "metadata": {
  "kernelspec": {
   "display_name": "idls",
   "language": "python",
   "name": "idls"
  },
  "language_info": {
   "codemirror_mode": {
    "name": "ipython",
    "version": 3
   },
   "file_extension": ".py",
   "mimetype": "text/x-python",
   "name": "python",
   "nbconvert_exporter": "python",
   "pygments_lexer": "ipython3",
   "version": "3.11.4"
  }
 },
 "nbformat": 4,
 "nbformat_minor": 4
}
